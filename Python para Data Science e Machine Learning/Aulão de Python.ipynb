{
 "cells": [
  {
   "cell_type": "code",
   "execution_count": 4,
   "id": "d2f0e9f0",
   "metadata": {},
   "outputs": [],
   "source": [
    "lista = [1,2,3,[1,2,3]]"
   ]
  },
  {
   "cell_type": "code",
   "execution_count": 5,
   "id": "3113cd3d",
   "metadata": {},
   "outputs": [
    {
     "data": {
      "text/plain": [
       "[1, 2, 3, [1, 2, 3]]"
      ]
     },
     "execution_count": 5,
     "metadata": {},
     "output_type": "execute_result"
    }
   ],
   "source": [
    "lista"
   ]
  },
  {
   "cell_type": "code",
   "execution_count": 6,
   "id": "bc2813ec",
   "metadata": {},
   "outputs": [
    {
     "data": {
      "text/plain": [
       "[1, 2, 3]"
      ]
     },
     "execution_count": 6,
     "metadata": {},
     "output_type": "execute_result"
    }
   ],
   "source": [
    "lista[3]"
   ]
  },
  {
   "cell_type": "code",
   "execution_count": 9,
   "id": "8e576fee",
   "metadata": {},
   "outputs": [],
   "source": [
    "dicionario = {'valor1': 1, 'valor2': 2}"
   ]
  },
  {
   "cell_type": "code",
   "execution_count": 10,
   "id": "c7c96c2f",
   "metadata": {},
   "outputs": [
    {
     "data": {
      "text/plain": [
       "{'valor1': 1, 'valor2': 2}"
      ]
     },
     "execution_count": 10,
     "metadata": {},
     "output_type": "execute_result"
    }
   ],
   "source": [
    "dicionario"
   ]
  },
  {
   "cell_type": "code",
   "execution_count": 11,
   "id": "97208dc3",
   "metadata": {},
   "outputs": [
    {
     "data": {
      "text/plain": [
       "1"
      ]
     },
     "execution_count": 11,
     "metadata": {},
     "output_type": "execute_result"
    }
   ],
   "source": [
    "dicionario['valor1']"
   ]
  },
  {
   "cell_type": "code",
   "execution_count": 12,
   "id": "68c6c8c0",
   "metadata": {},
   "outputs": [
    {
     "data": {
      "text/plain": [
       "2"
      ]
     },
     "execution_count": 12,
     "metadata": {},
     "output_type": "execute_result"
    }
   ],
   "source": [
    "dicionario['valor2']"
   ]
  },
  {
   "cell_type": "code",
   "execution_count": 13,
   "id": "f60fa432",
   "metadata": {},
   "outputs": [],
   "source": [
    "tupla = (1, 2, 3)"
   ]
  },
  {
   "cell_type": "code",
   "execution_count": 14,
   "id": "c43dbd2c",
   "metadata": {},
   "outputs": [
    {
     "data": {
      "text/plain": [
       "1"
      ]
     },
     "execution_count": 14,
     "metadata": {},
     "output_type": "execute_result"
    }
   ],
   "source": [
    "tupla[0]"
   ]
  },
  {
   "cell_type": "code",
   "execution_count": 1,
   "id": "8e877129",
   "metadata": {},
   "outputs": [],
   "source": [
    "def elevarAoQuadrado(value):\n",
    "    return value ** 2"
   ]
  },
  {
   "cell_type": "code",
   "execution_count": 3,
   "id": "33d19530",
   "metadata": {},
   "outputs": [
    {
     "data": {
      "text/plain": [
       "16"
      ]
     },
     "execution_count": 3,
     "metadata": {},
     "output_type": "execute_result"
    }
   ],
   "source": [
    "elevarAoQuadrado(4)"
   ]
  },
  {
   "cell_type": "code",
   "execution_count": 4,
   "id": "23bdb062",
   "metadata": {},
   "outputs": [
    {
     "data": {
      "text/plain": [
       "<function __main__.<lambda>(value)>"
      ]
     },
     "execution_count": 4,
     "metadata": {},
     "output_type": "execute_result"
    }
   ],
   "source": [
    "lambda value: value ** 2"
   ]
  },
  {
   "cell_type": "code",
   "execution_count": 2,
   "id": "0e22eaea",
   "metadata": {},
   "outputs": [],
   "source": [
    "seq = [1, 2, 3, 4, 5, 6]"
   ]
  },
  {
   "cell_type": "code",
   "execution_count": 3,
   "id": "f633841c",
   "metadata": {},
   "outputs": [
    {
     "data": {
      "text/plain": [
       "[1, 4, 9, 16, 25, 36]"
      ]
     },
     "execution_count": 3,
     "metadata": {},
     "output_type": "execute_result"
    }
   ],
   "source": [
    "list(map(elevarAoQuadrado, seq))"
   ]
  },
  {
   "cell_type": "code",
   "execution_count": 4,
   "id": "f44a11c0",
   "metadata": {},
   "outputs": [
    {
     "data": {
      "text/plain": [
       "[1, 4, 9, 16, 25, 36]"
      ]
     },
     "execution_count": 4,
     "metadata": {},
     "output_type": "execute_result"
    }
   ],
   "source": [
    "list(map(lambda x: x**2, seq))"
   ]
  },
  {
   "cell_type": "code",
   "execution_count": 5,
   "id": "07763314",
   "metadata": {},
   "outputs": [
    {
     "data": {
      "text/plain": [
       "[2, 4, 6]"
      ]
     },
     "execution_count": 5,
     "metadata": {},
     "output_type": "execute_result"
    }
   ],
   "source": [
    "list(filter(lambda item: item%2==0, seq))"
   ]
  },
  {
   "cell_type": "code",
   "execution_count": 6,
   "id": "62d51c97",
   "metadata": {},
   "outputs": [
    {
     "ename": "NameError",
     "evalue": "name 'arr' is not defined",
     "output_type": "error",
     "traceback": [
      "\u001b[1;31m---------------------------------------------------------------------------\u001b[0m",
      "\u001b[1;31mNameError\u001b[0m                                 Traceback (most recent call last)",
      "Cell \u001b[1;32mIn[6], line 1\u001b[0m\n\u001b[1;32m----> 1\u001b[0m \u001b[43marr\u001b[49m\u001b[38;5;241m.\u001b[39mmax()\n",
      "\u001b[1;31mNameError\u001b[0m: name 'arr' is not defined"
     ]
    }
   ],
   "source": [
    "arr.max()"
   ]
  },
  {
   "cell_type": "code",
   "execution_count": null,
   "id": "f8577bfa",
   "metadata": {},
   "outputs": [],
   "source": []
  }
 ],
 "metadata": {
  "kernelspec": {
   "display_name": "Python 3 (ipykernel)",
   "language": "python",
   "name": "python3"
  },
  "language_info": {
   "codemirror_mode": {
    "name": "ipython",
    "version": 3
   },
   "file_extension": ".py",
   "mimetype": "text/x-python",
   "name": "python",
   "nbconvert_exporter": "python",
   "pygments_lexer": "ipython3",
   "version": "3.10.9"
  }
 },
 "nbformat": 4,
 "nbformat_minor": 5
}
