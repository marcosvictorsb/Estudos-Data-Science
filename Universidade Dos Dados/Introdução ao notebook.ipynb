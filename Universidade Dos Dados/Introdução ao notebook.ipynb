{
 "cells": [
  {
   "cell_type": "markdown",
   "id": "adf2c3b1",
   "metadata": {},
   "source": [
    "# Introdução ao Jupyter ao Notebook"
   ]
  },
  {
   "cell_type": "code",
   "execution_count": 2,
   "id": "f4de7bbf",
   "metadata": {},
   "outputs": [
    {
     "data": {
      "text/plain": [
       "30"
      ]
     },
     "execution_count": 2,
     "metadata": {},
     "output_type": "execute_result"
    }
   ],
   "source": [
    "x = 10\n",
    "y = 20\n",
    "x+y"
   ]
  },
  {
   "cell_type": "markdown",
   "id": "edd50a75",
   "metadata": {},
   "source": [
    "# Explorando Iris Dataset"
   ]
  },
  {
   "cell_type": "code",
   "execution_count": null,
   "id": "a8d2e160",
   "metadata": {},
   "outputs": [],
   "source": []
  }
 ],
 "metadata": {
  "kernelspec": {
   "display_name": "Python 3 (ipykernel)",
   "language": "python",
   "name": "python3"
  },
  "language_info": {
   "codemirror_mode": {
    "name": "ipython",
    "version": 3
   },
   "file_extension": ".py",
   "mimetype": "text/x-python",
   "name": "python",
   "nbconvert_exporter": "python",
   "pygments_lexer": "ipython3",
   "version": "3.10.9"
  }
 },
 "nbformat": 4,
 "nbformat_minor": 5
}
